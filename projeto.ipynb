{
 "cells": [
  {
   "cell_type": "code",
   "execution_count": 4,
   "metadata": {},
   "outputs": [],
   "source": [
    "\n",
    "from selenium import webdriver\n",
    "from selenium.webdriver.chrome.service import Service\n",
    "from webdriver_manager.chrome import ChromeDriverManager\n",
    "\n",
    "service = Service(ChromeDriverManager().install())\n",
    "nav = webdriver.Chrome(service=service)\n",
    "nav.get(\"https://web.whatsapp.com\")\n"
   ]
  },
  {
   "cell_type": "code",
   "execution_count": 5,
   "metadata": {},
   "outputs": [],
   "source": [
    "from selenium.webdriver.common.keys import Keys #importa a biblioteca que permite ao selenium usar teclas de controle \n",
    "import pyperclip #uma biblioteca para armazenar arquivos copiados\n",
    "import time #uma biblioteca de timer\n",
    "mensagem = \"\"\"Testando a automação\"\"\" #a mensagem\n",
    "\n",
    "lista_contatos = [\"Meu cell Particular\"] , [\"Mãe\"] , [\"Pai\"] , [\"Vó\"] , [\"Meu cell Particular\"]\n",
    "\n",
    "#enviar mensagem pra mim\n",
    "#clicar lupa\n",
    "nav.find_element('xpath','//*[@id=\"side\"]/div[1]/div/div[2]/button/div[2]/span').click()#pega a localização da lupa e clica\n",
    "nav.find_element('xpath','//*[@id=\"side\"]/div[1]/div/div[2]/div[2]/div/div[1]/p').send_keys(\"Meu cell Particular\")#digita o nome do contato\n",
    "nav.find_element('xpath','//*[@id=\"side\"]/div[1]/div/div[2]/div[2]/div/div[1]/p').send_keys(Keys.ENTER) #pressiona enter\n",
    "time.sleep(2)\n",
    "#escrever mensagem \n",
    "pyperclip.copy(mensagem) #copia a mensagem\n",
    "nav.find_element('xpath','//*[@id=\"main\"]/footer/div[1]/div/span[2]/div/div[2]/div[1]/div/div[1]/p').send_keys(Keys.CONTROL + \"v\")#cola a mensagem\n",
    "nav.find_element('xpath','//*[@id=\"main\"]/footer/div[1]/div/span[2]/div/div[2]/div[1]/div/div[1]/p').send_keys(Keys.ENTER)#envia a mensagem\n",
    "time.sleep(3) #timer de 3 segundos\n",
    "#enviar mensagem pra mim"
   ]
  },
  {
   "cell_type": "code",
   "execution_count": 13,
   "metadata": {},
   "outputs": [
    {
     "ename": "TypeError",
     "evalue": "'float' object cannot be interpreted as an integer",
     "output_type": "error",
     "traceback": [
      "\u001b[1;31m---------------------------------------------------------------------------\u001b[0m",
      "\u001b[1;31mTypeError\u001b[0m                                 Traceback (most recent call last)",
      "Cell \u001b[1;32mIn[13], line 14\u001b[0m\n\u001b[0;32m     11\u001b[0m     qtde_blocos \u001b[38;5;241m=\u001b[39m \u001b[38;5;28mint\u001b[39m(qtde_contatos\u001b[38;5;241m/\u001b[39m\u001b[38;5;241m5\u001b[39m) \u001b[38;5;241m+\u001b[39m \u001b[38;5;241m1\u001b[39m\n\u001b[0;32m     13\u001b[0m \u001b[38;5;66;03m# selecionar a mensagem para enviar\u001b[39;00m\n\u001b[1;32m---> 14\u001b[0m \u001b[38;5;28;01mfor\u001b[39;00m i \u001b[38;5;129;01min\u001b[39;00m \u001b[38;5;28;43mrange\u001b[39;49m\u001b[43m(\u001b[49m\u001b[43mqtde_blocos\u001b[49m\u001b[43m)\u001b[49m:\n\u001b[0;32m     15\u001b[0m     i_inicial \u001b[38;5;241m=\u001b[39m i \u001b[38;5;241m*\u001b[39m \u001b[38;5;241m5\u001b[39m\n\u001b[0;32m     16\u001b[0m     i_final \u001b[38;5;241m=\u001b[39m (i\u001b[38;5;241m+\u001b[39m\u001b[38;5;241m1\u001b[39m) \u001b[38;5;241m*\u001b[39m \u001b[38;5;241m5\u001b[39m\n",
      "\u001b[1;31mTypeError\u001b[0m: 'float' object cannot be interpreted as an integer"
     ]
    }
   ],
   "source": [
    "from selenium.webdriver.common.action_chains import ActionChains\n",
    "from selenium.webdriver.common.keys import Keys\n",
    "import time\n",
    "\n",
    "mensagem = \"\"\"Testando a automação\"\"\"  # a mensagem\n",
    "qtde_contatos = len(lista_contatos)\n",
    "\n",
    "if qtde_contatos % 5 == 0:\n",
    "    qtde_blocos = qtde_contatos / 5\n",
    "else:\n",
    "    qtde_blocos = int(qtde_contatos/5) + 1\n",
    "\n",
    "# selecionar a mensagem para enviar\n",
    "for i in range(qtde_blocos):\n",
    "    i_inicial = i * 5\n",
    "    i_final = (i+1) * 5\n",
    "    lista_enviar = lista_contatos[i_inicial:i_final]\n",
    "\n",
    "    lista_elementos = nav.find_elements('class name', '_amlo')\n",
    "    for item in lista_elementos:\n",
    "        mensagem = mensagem.replace(\"\\n\", \"\")\n",
    "        texto = item.text.replace(\"\\n\", \"\")\n",
    "        if mensagem in texto:\n",
    "            elemento = item\n",
    "\n",
    "    ActionChains(nav).move_to_element(elemento).perform()\n",
    "    elemento.find_element('class name', '_ahkm').click()\n",
    "    time.sleep(0.5)\n",
    "    nav.find_element('xpath','//*[@id=\"app\"]/div/span[5]/div/ul/div/li[4]/div').click()\n",
    "    nav.find_element('xpath','//*[@id=\"main\"]/span[2]/div/button[4]/span').click()\n",
    "    time.sleep(1)\n",
    "\n",
    "    for nome in lista_enviar:\n",
    "        # selecionar os 5 contatos para enviar\n",
    "        nav.find_element('xpath','//*[@id=\"app\"]/div/span[2]/div/div/div/div/div/div/div/div[1]/div/div[2]/div[2]/div/div[1]/p').send_keys(nome)\n",
    "        time.sleep(1)\n",
    "        nav.find_element('xpath','//*[@id=\"app\"]/div/span[2]/div/div/div/div/div/div/div/div[1]/div/div[2]/div[2]/div/div[1]/p').send_keys(Keys.ENTER)\n",
    "        time.sleep(1.5)\n",
    "        nav.find_element('xpath','//*[@id=\"app\"]/div/span[2]/div/div/div/div/div/div/div/div[1]/div/div[2]/div[2]/div/div[1]/p').send_keys(Keys.BACKSPACE)\n",
    "        time.sleep(1.5)\n",
    "\n",
    "    nav.find_element('xpath','//*[@id=\"app\"]/div/span[2]/div/div/div/div/div/div/div/span/div/div/div/span').click()\n",
    "    time.sleep(3)\n"
   ]
  }
 ],
 "metadata": {
  "kernelspec": {
   "display_name": "Python 3",
   "language": "python",
   "name": "python3"
  },
  "language_info": {
   "codemirror_mode": {
    "name": "ipython",
    "version": 3
   },
   "file_extension": ".py",
   "mimetype": "text/x-python",
   "name": "python",
   "nbconvert_exporter": "python",
   "pygments_lexer": "ipython3",
   "version": "3.12.1"
  }
 },
 "nbformat": 4,
 "nbformat_minor": 2
}
